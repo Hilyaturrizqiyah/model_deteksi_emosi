{
 "cells": [
  {
   "cell_type": "code",
   "execution_count": 6,
   "id": "9c12d799-7e2d-4dc1-8549-f931e8bca70d",
   "metadata": {},
   "outputs": [
    {
     "data": {
      "text/plain": [
       "'tahun ini pandemi membuat kesehatan mental memburuk '"
      ]
     },
     "execution_count": 6,
     "metadata": {},
     "output_type": "execute_result"
    }
   ],
   "source": [
    "import re\n",
    "def case_folding(text):\n",
    "    text = text.lower()\n",
    "    text = re.sub(r'[^a-zA-Z]', ' ', str(text))\n",
    "    text = re.sub(r'\\b\\w{1,2}\\b', '', text)\n",
    "    text = re.sub(r'\\s\\s+', ' ', text)\n",
    "    text = re.sub('([#])|([^a-zA-Z])', ' ', text)\n",
    "    text = re.sub(r'www.', '', text)\n",
    "    text = re.sub(r'http\\S+', '', text)\n",
    "    return text\n",
    "\n",
    "\n",
    "case_folding('tahun 2019 ini PanDemi Membuat KesehaTan menTal Memburuk!!')"
   ]
  },
  {
   "cell_type": "code",
   "execution_count": 6,
   "id": "f2440c84-da38-459f-9735-1da4657afe20",
   "metadata": {},
   "outputs": [
    {
     "data": {
      "text/plain": [
       "'meludah sembarangan membuat jijik'"
      ]
     },
     "execution_count": 6,
     "metadata": {},
     "output_type": "execute_result"
    }
   ],
   "source": [
    "from Sastrawi.StopWordRemover.StopWordRemoverFactory import StopWordRemoverFactory\n",
    "def remove_stopword(text):\n",
    "    factory = StopWordRemoverFactory()\n",
    "    stopword = factory.create_stop_word_remover()\n",
    "    stop = stopword.remove(text)\n",
    "    return stop\n",
    "\n",
    "\n",
    "remove_stopword('meludah sembarangan membuat jijik')"
   ]
  },
  {
   "cell_type": "code",
   "execution_count": 8,
   "id": "b203ee93-b341-4495-be11-f2425f93a343",
   "metadata": {},
   "outputs": [
    {
     "data": {
      "text/plain": [
       "['harapannya', 'pandemi', 'ini', 'cepat', 'berlalu']"
      ]
     },
     "execution_count": 8,
     "metadata": {},
     "output_type": "execute_result"
    }
   ],
   "source": [
    "import re\n",
    "def tokenization(text):\n",
    "    text = re.split('\\W+', text)\n",
    "    return text\n",
    "\n",
    "\n",
    "tokenization('harapannya pandemi ini cepat berlalu')"
   ]
  },
  {
   "cell_type": "code",
   "execution_count": 19,
   "id": "f153296f-5f50-4a5d-8f8d-6b2235b176b7",
   "metadata": {},
   "outputs": [
    {
     "data": {
      "text/plain": [
       "[[('Aku', 'NN'),\n",
       "  ('sangat', 'RB'),\n",
       "  ('takut', 'JJ'),\n",
       "  ('terpapar', 'VB'),\n",
       "  ('pandemi', 'IN')]]"
      ]
     },
     "execution_count": 19,
     "metadata": {},
     "output_type": "execute_result"
    }
   ],
   "source": [
    "from nltk.tag import CRFTagger\n",
    "\n",
    "ct = CRFTagger()\n",
    "ct.set_model_file('all_indo_man_tag_corpus_model.crf.tagger')\n",
    "k = ct.tag_sents([['Aku', 'sangat', 'takut', 'terpapar', 'pandemi']])\n",
    "k"
   ]
  },
  {
   "cell_type": "code",
   "execution_count": null,
   "id": "268e7cd7-fab4-43b9-bb37-425e4ebddcea",
   "metadata": {},
   "outputs": [],
   "source": [
    "f = open(\"loop.txt\", \"w+\")\n",
    "for i in range(100000000):\n",
    "  f.write(\"%d\\n\" %(i+1))\n",
    "f.close()"
   ]
  },
  {
   "cell_type": "code",
   "execution_count": null,
   "id": "f9b0604e-ab69-433f-89ef-184bef885a30",
   "metadata": {},
   "outputs": [],
   "source": []
  }
 ],
 "metadata": {
  "kernelspec": {
   "display_name": "Python 3 (ipykernel)",
   "language": "python",
   "name": "python3"
  },
  "language_info": {
   "codemirror_mode": {
    "name": "ipython",
    "version": 3
   },
   "file_extension": ".py",
   "mimetype": "text/x-python",
   "name": "python",
   "nbconvert_exporter": "python",
   "pygments_lexer": "ipython3",
   "version": "3.9.10"
  }
 },
 "nbformat": 4,
 "nbformat_minor": 5
}
