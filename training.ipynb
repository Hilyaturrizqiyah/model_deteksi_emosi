{
 "cells": [
  {
   "cell_type": "code",
   "execution_count": 2,
   "id": "5013d116-5cc9-47ad-b6ac-fb3350a26205",
   "metadata": {},
   "outputs": [],
   "source": [
    "import numpy as np\n",
    "import pandas as pd\n",
    "# import matplotlib.pyplot as plt\n",
    "from sklearn.model_selection import train_test_split, cross_val_score\n",
    "from sklearn.neighbors import KNeighborsClassifier\n",
    "# from sklearn.model_selection import cross_val_predict\n",
    "from sklearn.metrics import confusion_matrix, accuracy_score\n",
    "from sklearn.metrics import classification_report\n",
    "from sklearn.feature_extraction.text import CountVectorizer\n",
    "from sklearn import svm\n",
    "from sklearn.naive_bayes import GaussianNB\n",
    "import matplotlib.pyplot as plt\n",
    "import pickle"
   ]
  },
  {
   "cell_type": "code",
   "execution_count": 3,
   "id": "20124219-5db4-49b0-9297-f746922d8875",
   "metadata": {},
   "outputs": [],
   "source": [
    "k = \"final.csv\"\n",
    "df = pd.read_csv(k)\n",
    "df.dropna(inplace=True)\n",
    "tweet = [i for i in df['Tweets']]\n",
    "d1 = {'Happiness': 1, 'Neutral': 0, 'Anger': -2, 'Fear': -3, 'Disgust': -4,\n",
    "      'Sadness': -1}\n",
    "df['Sentiment'] = df['Sentiment'].map(d1)"
   ]
  },
  {
   "cell_type": "code",
   "execution_count": 4,
   "id": "587f7fb4-ec03-4663-a7a2-a83080fdb4b4",
   "metadata": {},
   "outputs": [
    {
     "data": {
      "text/plain": [
       "array([[0, 0, 0, ..., 0, 0, 0],\n",
       "       [0, 0, 0, ..., 0, 0, 0],\n",
       "       [0, 0, 0, ..., 0, 0, 0],\n",
       "       ...,\n",
       "       [0, 0, 0, ..., 0, 0, 0],\n",
       "       [0, 0, 0, ..., 0, 0, 0],\n",
       "       [0, 0, 0, ..., 0, 0, 0]], dtype=int64)"
      ]
     },
     "execution_count": 4,
     "metadata": {},
     "output_type": "execute_result"
    }
   ],
   "source": [
    "cv = CountVectorizer()\n",
    "X = cv.fit_transform(tweet).toarray()\n",
    "y = df.loc[:, 'Sentiment'].values\n",
    "X_train, X_test, Y_train, Y_test = train_test_split(X, y, train_size=0.2,\n",
    "                                                    random_state=123)\n",
    "\n",
    "scoring_r = []\n",
    "scoring_t = []\n",
    "\n",
    "cv.fit_transform(tweet).toarray()"
   ]
  },
  {
   "cell_type": "code",
   "execution_count": 5,
   "id": "4131a468-72d6-418f-8eb9-2e20143f34d3",
   "metadata": {},
   "outputs": [],
   "source": [
    "def print_score(clf, X_train, Y_train, X_test, Y_test, train=True):\n",
    "    if train:\n",
    "        print(\"\\nTraining Result:\")\n",
    "        print(\n",
    "            \"\\naccuracy_score: \\t {0:.6f}\".format(\n",
    "                accuracy_score(Y_train, clf.predict(X_train))))\n",
    "        print(\n",
    "            \"\\nClassification_report: \\n{}\\n\".format(\n",
    "                classification_report(Y_train, clf.predict(X_train),\n",
    "                                      zero_division=0)))\n",
    "        print(\n",
    "            \"Confusion Matrix: \\n {}\\n\".format(\n",
    "                confusion_matrix(Y_train, clf.predict(X_train))))\n",
    "\n",
    "        res = cross_val_score(clf, X_train, Y_train, cv=5, scoring=\"accuracy\")\n",
    "        print(\"Average Accuracy:\\t {}\".format(res))\n",
    "        print(\"Average Accuracy:\\t {0:.4f}\".format(np.mean(res)))\n",
    "        print(\"Accuracy SD:\\t\\t {0:.4f}\".format(np.std(res)))\n",
    "        return \"{0:.4f}\".format(accuracy_score(Y_train, clf.predict(X_train)))"
   ]
  },
  {
   "cell_type": "code",
   "execution_count": 6,
   "id": "7cbc0046-9e5c-4fbb-a516-3871938f8d05",
   "metadata": {},
   "outputs": [
    {
     "name": "stdout",
     "output_type": "stream",
     "text": [
      "\n",
      " \t\t------KNN Classifier----\n",
      "\n",
      "\n",
      "Training Result:\n",
      "\n",
      "accuracy_score: \t 0.510490\n",
      "\n",
      "Classification_report: \n",
      "              precision    recall  f1-score   support\n",
      "\n",
      "          -4       0.00      0.00      0.00        10\n",
      "          -3       1.00      0.06      0.12        16\n",
      "          -2       0.00      0.00      0.00        11\n",
      "          -1       0.00      0.00      0.00        11\n",
      "           0       0.48      1.00      0.65        64\n",
      "           1       1.00      0.26      0.41        31\n",
      "\n",
      "    accuracy                           0.51       143\n",
      "   macro avg       0.41      0.22      0.20       143\n",
      "weighted avg       0.54      0.51      0.39       143\n",
      "\n",
      "\n",
      "Confusion Matrix: \n",
      " [[ 0  0  0  0 10  0]\n",
      " [ 0  1  0  0 15  0]\n",
      " [ 0  0  0  0 11  0]\n",
      " [ 0  0  0  0 11  0]\n",
      " [ 0  0  0  0 64  0]\n",
      " [ 0  0  0  0 23  8]]\n",
      "\n",
      "Average Accuracy:\t [0.55172414 0.44827586 0.48275862 0.53571429 0.53571429]\n",
      "Average Accuracy:\t 0.5108\n",
      "Accuracy SD:\t\t 0.0390\n"
     ]
    }
   ],
   "source": [
    "knn = KNeighborsClassifier()\n",
    "knn.fit(X_train, Y_train)\n",
    "print(\"\\n \\t\\t------KNN Classifier----\\n\")\n",
    "\n",
    "#Scores for training data\n",
    "v = print_score(knn, X_train, Y_train, X_test, Y_test, train=True)\n",
    "\n",
    "scoring_r.append(v)"
   ]
  },
  {
   "cell_type": "code",
   "execution_count": 7,
   "id": "167971c4-d580-4b42-b7a0-f516f6e16f41",
   "metadata": {},
   "outputs": [
    {
     "name": "stdout",
     "output_type": "stream",
     "text": [
      "\n",
      "\n",
      "\t\t----- SVM Details-------\n",
      "\n",
      "\n",
      "\n",
      "Training Result:\n",
      "\n",
      "accuracy_score: \t 0.811189\n",
      "\n",
      "Classification_report: \n",
      "              precision    recall  f1-score   support\n",
      "\n",
      "          -4       1.00      0.70      0.82        10\n",
      "          -3       1.00      0.56      0.72        16\n",
      "          -2       1.00      0.64      0.78        11\n",
      "          -1       1.00      0.36      0.53        11\n",
      "           0       0.70      1.00      0.83        64\n",
      "           1       1.00      0.81      0.89        31\n",
      "\n",
      "    accuracy                           0.81       143\n",
      "   macro avg       0.95      0.68      0.76       143\n",
      "weighted avg       0.87      0.81      0.80       143\n",
      "\n",
      "\n",
      "Confusion Matrix: \n",
      " [[ 7  0  0  0  3  0]\n",
      " [ 0  9  0  0  7  0]\n",
      " [ 0  0  7  0  4  0]\n",
      " [ 0  0  0  4  7  0]\n",
      " [ 0  0  0  0 64  0]\n",
      " [ 0  0  0  0  6 25]]\n",
      "\n",
      "Average Accuracy:\t [0.55172414 0.44827586 0.48275862 0.5        0.53571429]\n",
      "Average Accuracy:\t 0.5037\n",
      "Accuracy SD:\t\t 0.0370\n"
     ]
    }
   ],
   "source": [
    "clf = svm.SVC()\n",
    "clf.fit(X_train, Y_train)\n",
    "\n",
    "print(\"\\n\\n\\t\\t----- SVM Details-------\\n\\n\")\n",
    "\n",
    "#Scores for training data\n",
    "v = print_score(clf, X_train, Y_train, X_test, Y_test, train=True)\n",
    "scoring_r.append(v)"
   ]
  },
  {
   "cell_type": "code",
   "execution_count": 8,
   "id": "39091d39-d359-46e2-bef9-c15eb3e76fcc",
   "metadata": {
    "tags": []
   },
   "outputs": [
    {
     "name": "stdout",
     "output_type": "stream",
     "text": [
      "\n",
      "\n",
      " Naive Bayesian\n",
      "\n",
      "\n",
      "\n",
      "Training Result:\n",
      "\n",
      "accuracy_score: \t 0.986014\n",
      "\n",
      "Classification_report: \n",
      "              precision    recall  f1-score   support\n",
      "\n",
      "          -4       1.00      1.00      1.00        10\n",
      "          -3       1.00      1.00      1.00        16\n",
      "          -2       0.92      1.00      0.96        11\n",
      "          -1       1.00      1.00      1.00        11\n",
      "           0       1.00      0.97      0.98        64\n",
      "           1       0.97      1.00      0.98        31\n",
      "\n",
      "    accuracy                           0.99       143\n",
      "   macro avg       0.98      0.99      0.99       143\n",
      "weighted avg       0.99      0.99      0.99       143\n",
      "\n",
      "\n",
      "Confusion Matrix: \n",
      " [[10  0  0  0  0  0]\n",
      " [ 0 16  0  0  0  0]\n",
      " [ 0  0 11  0  0  0]\n",
      " [ 0  0  0 11  0  0]\n",
      " [ 0  0  1  0 62  1]\n",
      " [ 0  0  0  0  0 31]]\n",
      "\n",
      "Average Accuracy:\t [0.34482759 0.34482759 0.34482759 0.25       0.39285714]\n",
      "Average Accuracy:\t 0.3355\n",
      "Accuracy SD:\t\t 0.0466\n"
     ]
    }
   ],
   "source": [
    "model = GaussianNB()\n",
    "model.fit(X_train, Y_train)\n",
    "print(\"\\n\\n Naive Bayesian\\n\\n\")\n",
    "\n",
    "#Scores for training data\n",
    "v = print_score(model, X_train, Y_train, X_test, Y_test, train=True)\n",
    "scoring_t.append(v)"
   ]
  },
  {
   "cell_type": "code",
   "execution_count": 9,
   "id": "5ea23378-215c-43a0-9360-03243533f1b1",
   "metadata": {
    "tags": []
   },
   "outputs": [],
   "source": [
    "def graph(c):\n",
    "\n",
    "    har = [0, 0, 0, 0, 0, 0]\n",
    "    for i in c:\n",
    "        if i == 'Happiness':\n",
    "            har[0] += 1\n",
    "        elif i == 'Anger':\n",
    "            har[1] += 1\n",
    "        elif i == 'Neutral':\n",
    "            har[5] += 1\n",
    "        elif i == 'Fear':\n",
    "            har[2] += 1\n",
    "        elif i == 'Sadness':\n",
    "            har[3] += 1\n",
    "        elif i == 'Disgust':\n",
    "            har[4] += 1\n",
    "    s = float(sum(har))\n",
    "    for i in range(len(har)):\n",
    "        har[i] = har[i]/s\n",
    "    return har\n",
    "\n",
    "\n",
    "sentiment = pd.read_csv(\"final.csv\")\n",
    "graph_sentiment = graph(sentiment['Sentiment'].values)"
   ]
  },
  {
   "cell_type": "code",
   "execution_count": 10,
   "id": "923c2765-be97-4df1-8099-52d0e812b574",
   "metadata": {},
   "outputs": [
    {
     "data": {
      "image/png": "[encoded data removed]",
      "text/plain": [
       "<Figure size 432x288 with 1 Axes>"
      ]
     },
     "metadata": {
      "needs_background": "light"
     },
     "output_type": "display_data"
    }
   ],
   "source": [
    "Index = ['Happiness', 'Anger', 'Fear', 'Sadness', 'Disgust', 'Neutral']\n",
    "graph = {'Graph Sentiment': graph_sentiment}\n",
    "qw = pd.DataFrame(graph, index=Index)\n",
    "qw.plot(y=[\"Graph Sentiment\"], kind=\"bar\")\n",
    "# y.label = 'Number of tweets'\n",
    "plt.show()"
   ]
  },
  {
   "cell_type": "code",
   "execution_count": 11,
   "id": "9321b228-4cc6-4c37-b89e-f97d74518c5a",
   "metadata": {},
   "outputs": [],
   "source": [
    "## Saving Model and vectorizer\n",
    "with open('vectorizer.pkl', 'wb') as f:\n",
    "    pickle.dump(cv, f)\n",
    "with open('model.pkl', 'wb') as f:\n",
    "    pickle.dump(model, f)"
   ]
  },
  {
   "cell_type": "code",
   "execution_count": 11,
   "id": "d58db7f1-b595-41e7-8b2c-81e199fd4b46",
   "metadata": {},
   "outputs": [],
   "source": [
    "# with open('vectorizer.pkl', 'rb') as f:\n",
    "#     cv = pickle.load(f)\n",
    "# with open('model.pkl', 'rb') as f:\n",
    "#     model = pickle.load(f)"
   ]
  },
  {
   "cell_type": "code",
   "execution_count": null,
   "id": "51062669-f625-4192-83ce-495585e8643d",
   "metadata": {},
   "outputs": [],
   "source": []
  }
 ],
 "metadata": {
  "kernelspec": {
   "display_name": "Python 3 (ipykernel)",
   "language": "python",
   "name": "python3"
  },
  "language_info": {
   "codemirror_mode": {
    "name": "ipython",
    "version": 3
   },
   "file_extension": ".py",
   "mimetype": "text/x-python",
   "name": "python",
   "nbconvert_exporter": "python",
   "pygments_lexer": "ipython3",
   "version": "3.9.10"
  }
 },
 "nbformat": 4,
 "nbformat_minor": 5
}
